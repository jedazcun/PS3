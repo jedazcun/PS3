{
 "cells": [
  {
   "cell_type": "markdown",
   "id": "bf4364b8",
   "metadata": {},
   "source": [
    "# Week 8 Exercise"
   ]
  },
  {
   "cell_type": "markdown",
   "id": "38853a60",
   "metadata": {},
   "source": [
    "This week we'll be analyzing how the validity behind a certain post in Facebook can shape the reaction of other users on the platform and ultimately becoming viral and leading to misinformation.\n",
    "\n",
    "**Why it's relevant?:** \n",
    "- __Misinformation has had detrimental effects in society,__ be it antivaccine movements, politization of climate change, erosion of democracy.\n",
    "- __There's no incentive for change__ Antivaxxer content generated an estimated $1 billion USD in annual revenue for social media platforms\n",
    "    - More info on this if you're interested:  https://www.codastory.com/waronscience/social-media-profit-pandemic-antivax/\n",
    "\n",
    "**Our objective:**\n",
    "- Convince people in office about the impact of misinformation, and where to focus the efforts\n"
   ]
  },
  {
   "cell_type": "markdown",
   "id": "62a5799e",
   "metadata": {},
   "source": [
    "# PART I"
   ]
  },
  {
   "cell_type": "markdown",
   "id": "814fb994",
   "metadata": {},
   "source": [
    "## 0. Preliminary Steps"
   ]
  },
  {
   "cell_type": "markdown",
   "id": "45337745",
   "metadata": {},
   "source": [
    "Think about what you need to get started analyzing the data"
   ]
  },
  {
   "cell_type": "code",
   "execution_count": null,
   "id": "e972b331",
   "metadata": {},
   "outputs": [],
   "source": [
    "misinfo <- read.csv(\"facebook_fact_check_ps3.csv\")"
   ]
  },
  {
   "cell_type": "markdown",
   "id": "7630d5ef",
   "metadata": {},
   "source": [
    "The dataset has information for each post, and the researchers rated the validity of each one of the posts according to a rating. The virality of each post was estimated according to the number of times the post was shared. We'll be using at the next variables:\n",
    "\n",
    "- `source_orientation`:type of source `mainstream`,`left`,`right` \n",
    "- `post_type`: different categories of posts `link`, `photo`, `text`, `video`\n",
    "- `rating`: think of this as the treatment or explanatory variable.\n",
    "    - `mostly true`: The post and any related link or image are based on factual information and portray it accurately. \n",
    "\n",
    "    - `mixture of true and false`: Some elements of the information are factually accurate, but some elements or claims are not.\n",
    "\n",
    "    - `mostly false`: Most or all of the information in the post or in the link being shared is inaccurate. \n",
    "\n",
    "    - `no factual content`: This rating is used for posts that are pure opinion, comics, satire, or any other posts that do not make a factual claim.\n",
    "    \n",
    "- `viral`(**outcome**) : `1` post had more than 100 shares, `0` post had less than 100 shares\n",
    "    "
   ]
  },
  {
   "cell_type": "markdown",
   "id": "eeb01e12",
   "metadata": {},
   "source": [
    "## 1. Analyze the Experiment"
   ]
  },
  {
   "cell_type": "markdown",
   "id": "50d286ab",
   "metadata": {},
   "source": [
    "### a. What do you think would be the hypothesis for this experiment?"
   ]
  },
  {
   "cell_type": "markdown",
   "id": "aeadb650",
   "metadata": {},
   "source": [
    "Type  here"
   ]
  },
  {
   "cell_type": "markdown",
   "id": "2cbcbd4b",
   "metadata": {},
   "source": [
    "### b. What do you think would be the null hypothesis?"
   ]
  },
  {
   "cell_type": "markdown",
   "id": "06288821",
   "metadata": {},
   "source": [
    "Type  here"
   ]
  },
  {
   "cell_type": "markdown",
   "id": "9bd025e8",
   "metadata": {},
   "source": [
    "## 2. Get the data ready"
   ]
  },
  {
   "cell_type": "markdown",
   "id": "98a7d4d8",
   "metadata": {},
   "source": [
    "Let's just focus on the data that is factual, that is `mixture of true and false`, `mostly true` and `mostly false`observations and store it in the `misinfo_clean` variable. Keep only the observations that have these two variables. Type your code underneath:"
   ]
  },
  {
   "cell_type": "code",
   "execution_count": null,
   "id": "50c83188",
   "metadata": {},
   "outputs": [],
   "source": [
    "misinfo_clean <- "
   ]
  },
  {
   "cell_type": "markdown",
   "id": "2c345e36",
   "metadata": {},
   "source": [
    "## 3. Analyze it"
   ]
  },
  {
   "cell_type": "markdown",
   "id": "92c66eb5",
   "metadata": {},
   "source": [
    "### What's our best guess of the difference in reactions between the truthfulness of posts?"
   ]
  },
  {
   "cell_type": "markdown",
   "id": "4719c5b7",
   "metadata": {},
   "source": [
    "We are interested in curving missinformation. Therefore, we want to assess if somehow the factuality of data affects how much people react to it. Is there a difference between posts with more factual infromation as compared to posts with less factual information? What about posts with a mix of true and false data?"
   ]
  },
  {
   "cell_type": "markdown",
   "id": "170567dc",
   "metadata": {},
   "source": [
    "Estimate the difference in means between the different kinds of posts. Take the `mostly true` posts as the baseline"
   ]
  },
  {
   "cell_type": "code",
   "execution_count": null,
   "id": "1929a481",
   "metadata": {},
   "outputs": [],
   "source": [
    "diff_t_f <-"
   ]
  },
  {
   "cell_type": "code",
   "execution_count": null,
   "id": "3f7cde04",
   "metadata": {},
   "outputs": [],
   "source": [
    "diff_t_mix <-"
   ]
  },
  {
   "cell_type": "markdown",
   "id": "8a3e2ec5",
   "metadata": {},
   "source": [
    "Now interpret the **significance** of the results i.e. how much more viral is one against the other?, is the result statistically significant?"
   ]
  },
  {
   "cell_type": "markdown",
   "id": "a962a44c",
   "metadata": {},
   "source": [
    "# PART II"
   ]
  },
  {
   "cell_type": "markdown",
   "id": "a56913d9",
   "metadata": {},
   "source": [
    "## 4. Different Treatment Effect"
   ]
  },
  {
   "cell_type": "markdown",
   "id": "b073e636",
   "metadata": {},
   "source": [
    "### Wait...are there any nuances in the effects we just derived?"
   ]
  },
  {
   "cell_type": "markdown",
   "id": "68f4dde5",
   "metadata": {},
   "source": [
    "Remember the other types of variables we have: `post_type` and `category`"
   ]
  },
  {
   "cell_type": "code",
   "execution_count": null,
   "id": "fd4ab511",
   "metadata": {},
   "outputs": [],
   "source": []
  },
  {
   "cell_type": "markdown",
   "id": "f56c0fbb",
   "metadata": {},
   "source": [
    "## 5. Report results to elected official"
   ]
  },
  {
   "cell_type": "markdown",
   "id": "65cd2a6b",
   "metadata": {},
   "source": [
    "### If you were discussing your findings with a decision maker, how would you convince them of the importance of getting false posts down from social media?\n",
    "In other words according to the data how much \"viral effect\" does each false post have?\n",
    "Hint: Use Confidence Intervals"
   ]
  },
  {
   "cell_type": "code",
   "execution_count": null,
   "id": "c0bfcfbb",
   "metadata": {},
   "outputs": [],
   "source": []
  },
  {
   "cell_type": "markdown",
   "id": "c6e1fcf9",
   "metadata": {},
   "source": []
  }
 ],
 "metadata": {
  "kernelspec": {
   "display_name": "R",
   "language": "R",
   "name": "ir"
  },
  "language_info": {
   "codemirror_mode": "r",
   "file_extension": ".r",
   "mimetype": "text/x-r-source",
   "name": "R",
   "pygments_lexer": "r",
   "version": "4.0.5"
  }
 },
 "nbformat": 4,
 "nbformat_minor": 5
}
