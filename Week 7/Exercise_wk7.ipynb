{
 "cells": [
  {
   "cell_type": "markdown",
   "id": "1bbea294",
   "metadata": {},
   "source": [
    "# POLSCI 3 Fall 2021\n",
    "\n",
    "## Week 7, DIS 107 & 110\n",
    "### p-values and Confidence Intervals\n",
    "\n",
    "We'll revisit back to the wellness data from earlier in the semester."
   ]
  },
  {
   "cell_type": "markdown",
   "id": "d553e6e1",
   "metadata": {},
   "source": [
    "### 1. Preview data"
   ]
  },
  {
   "cell_type": "markdown",
   "id": "9d105732",
   "metadata": {},
   "source": [
    "Let's read in the wellness dataset and recap what each of the variables represent and load the library for difference in means (_*estimatr*_)"
   ]
  },
  {
   "cell_type": "code",
   "execution_count": 3,
   "id": "c9e5150d",
   "metadata": {},
   "outputs": [
    {
     "data": {
      "text/html": [
       "<table class=\"dataframe\">\n",
       "<caption>A data.frame: 6 × 5</caption>\n",
       "<thead>\n",
       "\t<tr><th></th><th scope=col>id</th><th scope=col>treat</th><th scope=col>participate</th><th scope=col>baseline</th><th scope=col>outcome_post</th></tr>\n",
       "\t<tr><th></th><th scope=col>&lt;int&gt;</th><th scope=col>&lt;int&gt;</th><th scope=col>&lt;int&gt;</th><th scope=col>&lt;dbl&gt;</th><th scope=col>&lt;dbl&gt;</th></tr>\n",
       "</thead>\n",
       "<tbody>\n",
       "\t<tr><th scope=row>1</th><td>4835</td><td>0</td><td>0</td><td>  0.000000</td><td> 10.230833</td></tr>\n",
       "\t<tr><th scope=row>2</th><td>4836</td><td>1</td><td>0</td><td>  5.078462</td><td>  2.634167</td></tr>\n",
       "\t<tr><th scope=row>3</th><td>4837</td><td>1</td><td>1</td><td>239.104610</td><td>154.874180</td></tr>\n",
       "\t<tr><th scope=row>4</th><td>4838</td><td>1</td><td>0</td><td> 29.418573</td><td>  0.000000</td></tr>\n",
       "\t<tr><th scope=row>5</th><td>4839</td><td>0</td><td>0</td><td>  0.000000</td><td>  0.000000</td></tr>\n",
       "\t<tr><th scope=row>6</th><td>4840</td><td>1</td><td>0</td><td>  3.076923</td><td>  5.841667</td></tr>\n",
       "</tbody>\n",
       "</table>\n"
      ],
      "text/latex": [
       "A data.frame: 6 × 5\n",
       "\\begin{tabular}{r|lllll}\n",
       "  & id & treat & participate & baseline & outcome\\_post\\\\\n",
       "  & <int> & <int> & <int> & <dbl> & <dbl>\\\\\n",
       "\\hline\n",
       "\t1 & 4835 & 0 & 0 &   0.000000 &  10.230833\\\\\n",
       "\t2 & 4836 & 1 & 0 &   5.078462 &   2.634167\\\\\n",
       "\t3 & 4837 & 1 & 1 & 239.104610 & 154.874180\\\\\n",
       "\t4 & 4838 & 1 & 0 &  29.418573 &   0.000000\\\\\n",
       "\t5 & 4839 & 0 & 0 &   0.000000 &   0.000000\\\\\n",
       "\t6 & 4840 & 1 & 0 &   3.076923 &   5.841667\\\\\n",
       "\\end{tabular}\n"
      ],
      "text/markdown": [
       "\n",
       "A data.frame: 6 × 5\n",
       "\n",
       "| <!--/--> | id &lt;int&gt; | treat &lt;int&gt; | participate &lt;int&gt; | baseline &lt;dbl&gt; | outcome_post &lt;dbl&gt; |\n",
       "|---|---|---|---|---|---|\n",
       "| 1 | 4835 | 0 | 0 |   0.000000 |  10.230833 |\n",
       "| 2 | 4836 | 1 | 0 |   5.078462 |   2.634167 |\n",
       "| 3 | 4837 | 1 | 1 | 239.104610 | 154.874180 |\n",
       "| 4 | 4838 | 1 | 0 |  29.418573 |   0.000000 |\n",
       "| 5 | 4839 | 0 | 0 |   0.000000 |   0.000000 |\n",
       "| 6 | 4840 | 1 | 0 |   3.076923 |   5.841667 |\n",
       "\n"
      ],
      "text/plain": [
       "  id   treat participate baseline   outcome_post\n",
       "1 4835 0     0             0.000000  10.230833  \n",
       "2 4836 1     0             5.078462   2.634167  \n",
       "3 4837 1     1           239.104610 154.874180  \n",
       "4 4838 1     0            29.418573   0.000000  \n",
       "5 4839 0     0             0.000000   0.000000  \n",
       "6 4840 1     0             3.076923   5.841667  "
      ]
     },
     "metadata": {},
     "output_type": "display_data"
    }
   ],
   "source": [
    "library(estimatr)\n",
    "\n",
    "wellness <- read.csv('ps3_wellness_real.csv')\n",
    "head(wellness)"
   ]
  },
  {
   "cell_type": "markdown",
   "id": "333562d5",
   "metadata": {},
   "source": [
    "This dataset contains real data on participants in a wellness program. Each row represents a unique respondent, and the data measures medical expenditure before and after the wellness treatment. Here is more information about the variables:\n",
    "\n",
    "`id`: Respondent ID (anonymized identifier for each respondent)\n",
    "\n",
    "`treat`: Whether or not the treatment was offered to the participant (treatment here is the wellness program) (`1` = was offered wellness program, `0` = wasn't offered wellness program). This is randomly assigned.\n",
    "\n",
    "`participate`: Whether respondent **actually participated** in the wellness program (`1` = actually participated, `0` = didn't particiapte)\n",
    "\n",
    "`baseline`: Monthly average medical costs at baseline; that is, before the program started.\n",
    "\n",
    "`outcome_post`: Monthly cost of medical care for this person after the workplace wellness program started (regardless of whether they participated or not)."
   ]
  },
  {
   "cell_type": "markdown",
   "id": "6ef48a3d",
   "metadata": {},
   "source": [
    "### 2. Estimate the effect of the Wellness program"
   ]
  },
  {
   "cell_type": "code",
   "execution_count": 5,
   "id": "45611dde",
   "metadata": {},
   "outputs": [
    {
     "data": {
      "text/plain": [
       "Design:  Standard \n",
       "      Estimate Std. Error    t value  Pr(>|t|)  CI Lower CI Upper       DF\n",
       "treat -28.5596     58.505 -0.4881566 0.6255005 -143.3072 86.18801 1737.759"
      ]
     },
     "metadata": {},
     "output_type": "display_data"
    }
   ],
   "source": [
    "difference_in_means(outcome_post ~ treat, wellness, condition1 = '0', condition2 = '1')"
   ]
  },
  {
   "cell_type": "code",
   "execution_count": 6,
   "id": "9cc54b68",
   "metadata": {},
   "outputs": [
    {
     "data": {
      "text/html": [
       "<table class=\"dataframe\">\n",
       "<caption>A data.frame: 6 × 5</caption>\n",
       "<thead>\n",
       "\t<tr><th></th><th scope=col>id</th><th scope=col>treat</th><th scope=col>participate</th><th scope=col>baseline</th><th scope=col>outcome_post</th></tr>\n",
       "\t<tr><th></th><th scope=col>&lt;int&gt;</th><th scope=col>&lt;int&gt;</th><th scope=col>&lt;int&gt;</th><th scope=col>&lt;dbl&gt;</th><th scope=col>&lt;dbl&gt;</th></tr>\n",
       "</thead>\n",
       "<tbody>\n",
       "\t<tr><th scope=row>2</th><td>4836</td><td>1</td><td>0</td><td>  5.078462</td><td>  2.634167</td></tr>\n",
       "\t<tr><th scope=row>3</th><td>4837</td><td>1</td><td>1</td><td>239.104610</td><td>154.874180</td></tr>\n",
       "\t<tr><th scope=row>4</th><td>4838</td><td>1</td><td>0</td><td> 29.418573</td><td>  0.000000</td></tr>\n",
       "\t<tr><th scope=row>6</th><td>4840</td><td>1</td><td>0</td><td>  3.076923</td><td>  5.841667</td></tr>\n",
       "\t<tr><th scope=row>8</th><td>4842</td><td>1</td><td>1</td><td>146.156160</td><td> 51.754169</td></tr>\n",
       "\t<tr><th scope=row>9</th><td>4848</td><td>1</td><td>1</td><td> 13.355385</td><td> 22.701666</td></tr>\n",
       "</tbody>\n",
       "</table>\n"
      ],
      "text/latex": [
       "A data.frame: 6 × 5\n",
       "\\begin{tabular}{r|lllll}\n",
       "  & id & treat & participate & baseline & outcome\\_post\\\\\n",
       "  & <int> & <int> & <int> & <dbl> & <dbl>\\\\\n",
       "\\hline\n",
       "\t2 & 4836 & 1 & 0 &   5.078462 &   2.634167\\\\\n",
       "\t3 & 4837 & 1 & 1 & 239.104610 & 154.874180\\\\\n",
       "\t4 & 4838 & 1 & 0 &  29.418573 &   0.000000\\\\\n",
       "\t6 & 4840 & 1 & 0 &   3.076923 &   5.841667\\\\\n",
       "\t8 & 4842 & 1 & 1 & 146.156160 &  51.754169\\\\\n",
       "\t9 & 4848 & 1 & 1 &  13.355385 &  22.701666\\\\\n",
       "\\end{tabular}\n"
      ],
      "text/markdown": [
       "\n",
       "A data.frame: 6 × 5\n",
       "\n",
       "| <!--/--> | id &lt;int&gt; | treat &lt;int&gt; | participate &lt;int&gt; | baseline &lt;dbl&gt; | outcome_post &lt;dbl&gt; |\n",
       "|---|---|---|---|---|---|\n",
       "| 2 | 4836 | 1 | 0 |   5.078462 |   2.634167 |\n",
       "| 3 | 4837 | 1 | 1 | 239.104610 | 154.874180 |\n",
       "| 4 | 4838 | 1 | 0 |  29.418573 |   0.000000 |\n",
       "| 6 | 4840 | 1 | 0 |   3.076923 |   5.841667 |\n",
       "| 8 | 4842 | 1 | 1 | 146.156160 |  51.754169 |\n",
       "| 9 | 4848 | 1 | 1 |  13.355385 |  22.701666 |\n",
       "\n"
      ],
      "text/plain": [
       "  id   treat participate baseline   outcome_post\n",
       "2 4836 1     0             5.078462   2.634167  \n",
       "3 4837 1     1           239.104610 154.874180  \n",
       "4 4838 1     0            29.418573   0.000000  \n",
       "6 4840 1     0             3.076923   5.841667  \n",
       "8 4842 1     1           146.156160  51.754169  \n",
       "9 4848 1     1            13.355385  22.701666  "
      ]
     },
     "metadata": {},
     "output_type": "display_data"
    },
    {
     "data": {
      "text/plain": [
       "Design:  Standard \n",
       "             Estimate Std. Error   t value  Pr(>|t|)  CI Lower CI Upper\n",
       "participate -125.0527    66.7444 -1.873606 0.0612153 -255.9946 5.889276\n",
       "                  DF\n",
       "participate 1264.438"
      ]
     },
     "metadata": {},
     "output_type": "display_data"
    }
   ],
   "source": [
    "offered<-subset(wellness, treat==1)\n",
    "head(offered)\n",
    "difference_in_means(outcome_post~participate, offered, condition1 = '0', condition2 = '1')"
   ]
  },
  {
   "cell_type": "code",
   "execution_count": 7,
   "id": "c7f265c2",
   "metadata": {},
   "outputs": [
    {
     "data": {
      "text/plain": [
       "Design:  Standard \n",
       "             Estimate Std. Error   t value  Pr(>|t|)  CI Lower CI Upper      DF\n",
       "participate -99.21685   48.77848 -2.034029 0.0420325 -194.8578 -3.57594 3142.21"
      ]
     },
     "metadata": {},
     "output_type": "display_data"
    }
   ],
   "source": [
    "difference_in_means(outcome_post ~ participate, wellness, condition1 = '0', condition2 = '1')"
   ]
  },
  {
   "cell_type": "markdown",
   "id": "b0d37c0e",
   "metadata": {},
   "source": [
    "### 3. Analyze the results. What do you see?"
   ]
  },
  {
   "cell_type": "markdown",
   "id": "fb91f34e",
   "metadata": {},
   "source": [
    "type text here"
   ]
  },
  {
   "cell_type": "markdown",
   "id": "6766088f",
   "metadata": {},
   "source": []
  }
 ],
 "metadata": {
  "kernelspec": {
   "display_name": "R",
   "language": "R",
   "name": "ir"
  },
  "language_info": {
   "codemirror_mode": "r",
   "file_extension": ".r",
   "mimetype": "text/x-r-source",
   "name": "R",
   "pygments_lexer": "r",
   "version": "4.0.5"
  }
 },
 "nbformat": 4,
 "nbformat_minor": 5
}
