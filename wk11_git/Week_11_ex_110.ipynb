{
 "cells": [
  {
   "cell_type": "markdown",
   "id": "bf4364b8",
   "metadata": {},
   "source": [
    "# Week 11 Exercise"
   ]
  },
  {
   "cell_type": "markdown",
   "id": "38853a60",
   "metadata": {},
   "source": [
    "This week we'll keep on working on the dataset on democrcay and economic indicators. Oue goal for the week is to asses which variables seem to be good predictors for a higher quality democracy."
   ]
  },
  {
   "cell_type": "markdown",
   "id": "814fb994",
   "metadata": {},
   "source": [
    "## 0. Preliminary Steps"
   ]
  },
  {
   "cell_type": "markdown",
   "id": "45337745",
   "metadata": {},
   "source": [
    "Think about what you need to get started analyzing the data. Today we'll be using the diff_in_means function, and will alos be plotting. What libraries do you need to load?"
   ]
  },
  {
   "cell_type": "code",
   "execution_count": null,
   "id": "e972b331",
   "metadata": {},
   "outputs": [],
   "source": [
    "library(estimatr)\n",
    "library(ggplot2)\n",
    "library(gridExtra) #to displays several plots in the same graph\n",
    "\n",
    "dem_eco <- read.csv(\"democracy_economic_data.csv\")\n",
    "head(dem_eco)"
   ]
  },
  {
   "cell_type": "markdown",
   "id": "7630d5ef",
   "metadata": {},
   "source": [
    "The dataset has information of economic indicators for a set of different countries, as well as a Democracy index developed by The Economist for years 2006 and 2016.\n",
    "\n",
    "The dataset includes the next variables:\n",
    "\n",
    "- `country`:name of the country \n",
    "- `year`:year for which we have the value \n",
    "- `demox`: democracy rating (0-100)\n",
    "- `income_per_capita`: gdp per capita in PPP US dollars\n",
    "- `gini_index` : inequality index (0-1), where 0 = total equality, and 1 = total inequality\n",
    "- `tax_gdp` : taxes collected as percentage of GDP\n",
    "- `yr_weight` : weights according to year\n",
    "- `western` : `1` for so-called western countries, `0` for countries\n",
    "    "
   ]
  },
  {
   "cell_type": "markdown",
   "id": "9bd025e8",
   "metadata": {},
   "source": [
    "## 1. What trends can we see in the data?"
   ]
  },
  {
   "cell_type": "markdown",
   "id": "6730143d",
   "metadata": {},
   "source": [
    "Let's plot all the varibales against `demox` to see what trends we can see. Look for the tightness of observations along the line of best fit, for the direction of the trend, and for outliers. For now let's keep only data of 2016.\n"
   ]
  },
  {
   "cell_type": "code",
   "execution_count": null,
   "id": "1929a481",
   "metadata": {},
   "outputs": [],
   "source": [
    "dem_eco_16 <- subset(dem_eco, year==2016)\n",
    "\n",
    "west_16<-qplot(demox, western, data=dem_eco_16) + geom_smooth(method='lm')\n",
    "tax_16<-qplot(demox, tax_gdp, data=dem_eco_16) + geom_smooth(method='lm')\n",
    "gdp_16<-qplot(demox, income_per_capita, data=dem_eco_16) + geom_smooth(method='lm')\n",
    "gini_16<-qplot(demox, gini_index, data=dem_eco_16) + geom_smooth(method='lm')\n",
    "\n",
    "grid.arrange(west_16, tax_16, gdp_16, gini_16, nrow=2)\n"
   ]
  },
  {
   "cell_type": "markdown",
   "id": "4fc96465",
   "metadata": {},
   "source": [
    "## 2. Define a regression for the Democracy Index"
   ]
  },
  {
   "cell_type": "markdown",
   "id": "0d4def69",
   "metadata": {},
   "source": [
    "### Bivariate regression"
   ]
  },
  {
   "cell_type": "markdown",
   "id": "5b1e1b02",
   "metadata": {},
   "source": [
    "Using regression we can analyze which of the 4 variables we have `tax_gdp`,`income_pc`, `gini_index`, `western` will be the best predictor of democracy. What would be your first guess be looking at the plots from above?"
   ]
  },
  {
   "cell_type": "markdown",
   "id": "778e9c2a",
   "metadata": {},
   "source": [
    "- _Type your answer here_"
   ]
  },
  {
   "cell_type": "markdown",
   "id": "b8989cb6",
   "metadata": {},
   "source": [
    "Let's start regressing `demox` with `ìncome_per_capita`. Referring to the line of best fit plotted above, what do you expect the estimate result to be?"
   ]
  },
  {
   "cell_type": "code",
   "execution_count": null,
   "id": "190a72f6",
   "metadata": {},
   "outputs": [],
   "source": [
    "lm_income <-"
   ]
  },
  {
   "cell_type": "markdown",
   "id": "36dfff96",
   "metadata": {},
   "source": [
    "What interpretation would you give of the results above? Hint: what do the intercept and estimate tell us. How about the r^2 or correlation? "
   ]
  },
  {
   "cell_type": "markdown",
   "id": "4ded061c",
   "metadata": {},
   "source": [
    "- _Type you answer here_"
   ]
  },
  {
   "cell_type": "markdown",
   "id": "70f220e0",
   "metadata": {},
   "source": [
    "What would be the democracy index for a country with an income per capita of $1000 USD?"
   ]
  },
  {
   "cell_type": "markdown",
   "id": "443aff42",
   "metadata": {},
   "source": [
    "- _Type you answer here_"
   ]
  },
  {
   "cell_type": "markdown",
   "id": "2abf1128",
   "metadata": {},
   "source": [
    "### Multivariate Regression"
   ]
  },
  {
   "cell_type": "markdown",
   "id": "b5697184",
   "metadata": {},
   "source": [
    "Thinking that we want to approximate how income causes  the regression of `demox`on the other vLet's add another varibale"
   ]
  },
  {
   "cell_type": "code",
   "execution_count": null,
   "id": "b2d700f8",
   "metadata": {},
   "outputs": [],
   "source": [
    "lm_tax <-"
   ]
  },
  {
   "cell_type": "code",
   "execution_count": null,
   "id": "923a2cb0",
   "metadata": {},
   "outputs": [],
   "source": [
    "lm_gini <-"
   ]
  },
  {
   "cell_type": "code",
   "execution_count": null,
   "id": "cfb2e78a",
   "metadata": {},
   "outputs": [],
   "source": [
    "lm_west <-"
   ]
  },
  {
   "cell_type": "markdown",
   "id": "c5721c1e",
   "metadata": {},
   "source": [
    "Now that we have a bivariate regression, we can add more variables, to see how the model will change. Add one of the variables we analyzed above and analyze how the results changed. \n",
    "\n",
    "Be concious about which one would you choose. Given we want to want to make a causal interpretation of the results we want to remove as much OVB as we can. Note: Remember OVB happens when a variable is related to both the outcome and epxlanatory variables."
   ]
  },
  {
   "cell_type": "code",
   "execution_count": null,
   "id": "f4caf9b2",
   "metadata": {},
   "outputs": [],
   "source": [
    "multi_lm <-"
   ]
  },
  {
   "cell_type": "markdown",
   "id": "05437447",
   "metadata": {},
   "source": [
    "### Interpret the results"
   ]
  },
  {
   "cell_type": "markdown",
   "id": "614e29d0",
   "metadata": {},
   "source": [
    "Type here\n"
   ]
  }
 ],
 "metadata": {
  "kernelspec": {
   "display_name": "R",
   "language": "R",
   "name": "ir"
  },
  "language_info": {
   "codemirror_mode": "r",
   "file_extension": ".r",
   "mimetype": "text/x-r-source",
   "name": "R",
   "pygments_lexer": "r",
   "version": "4.0.5"
  }
 },
 "nbformat": 4,
 "nbformat_minor": 5
}
