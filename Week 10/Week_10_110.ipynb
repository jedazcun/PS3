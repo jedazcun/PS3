{
 "cells": [
  {
   "cell_type": "markdown",
   "id": "bf4364b8",
   "metadata": {},
   "source": [
    "# Week 10 Exercise"
   ]
  },
  {
   "cell_type": "markdown",
   "id": "38853a60",
   "metadata": {},
   "source": [
    "This week we'll be analyzing how democracy is 'spread' across the world, and how the 'quality' of a country's democracy relates to other economic variables.\n",
    "\n",
    "\"*There seems to be a sort of prevalent attitude in the Western world that its brand of democracy is something of a catch all solution for all the world's political problems. Hence, Western imperialism has always been sold under the pretext of spreading freedom and democracy. Democracy is beautiful. But it is no proof against imperialism.*\" \n",
    "- Decolonizing Democracy from Western Cognitive Imperialism\n",
    "\n",
    "Democracy has some inherent value. The goal here is not to undermine democracy, but rather to be critical about the narrative, and power that has been exerted through it.\n",
    "\n",
    "**Our objective:**\n",
    "- Decolonizing democracy... and then analyzing 1) differences between groups and, 2) look for trends between variables\n",
    "\n"
   ]
  },
  {
   "cell_type": "markdown",
   "id": "62a5799e",
   "metadata": {},
   "source": [
    "# PART I. Review (Individual or groups)"
   ]
  },
  {
   "cell_type": "markdown",
   "id": "814fb994",
   "metadata": {},
   "source": [
    "## 0. Preliminary Steps"
   ]
  },
  {
   "cell_type": "markdown",
   "id": "45337745",
   "metadata": {},
   "source": [
    "Think about what you need to get started analyzing the data. Today we'll be using the diff_in_means function, and will alos be plotting. What libraries do you need to load?"
   ]
  },
  {
   "cell_type": "code",
   "execution_count": null,
   "id": "e972b331",
   "metadata": {},
   "outputs": [],
   "source": [
    "\n",
    "dem_eco <- read.csv(\"democracy_economic_data.csv\")\n"
   ]
  },
  {
   "cell_type": "markdown",
   "id": "7630d5ef",
   "metadata": {},
   "source": [
    "The dataset has information of economic indicators for a set of different countries, as well as a Democracy index developed by The Economist for years 2006 and 2016. This index takes into account 60 different aspects of societies that are relevant to democracy universal suffrage for all adults, voter participation, perception of human rights protection and freedom to form organizations and parties. \n",
    "\n",
    "If you are interested you can find more info here: https://pages.eiu.com/rs/753-RIQ-438/images/democracy-index-2020.pdf?mkt_tok=NzUzLVJJUS00MzgAAAF8Snoax72fgDaDLx5aEQBbzGrMbU6BIoRm4LEhGHu-jzkfp3V4q3Y9wS3f3e6z1PEkKnk7IJBF6AteSi-e5BgRQFKjjwodLnhMlWEqk6-FErf1uA\n",
    "\n",
    "The dataset includes the next variables:\n",
    "\n",
    "- `country`:name of the country \n",
    "- `year`:year for which we have the value \n",
    "- `demox`: democracy rating (0-100)\n",
    "- `income_per_capita`: gdp per capita in PPP US dollars\n",
    "- `gini_index` : inequality index (0-1), where 0 = total equality, and 1 = total inequality\n",
    "- `tax_gdp` : taxes collected as percentage of GDP\n",
    "- `yr_weight` : weights according to year\n",
    "- `western` : `1` for so-called western countries, `0` for countries\n",
    "    "
   ]
  },
  {
   "cell_type": "markdown",
   "id": "9bd025e8",
   "metadata": {},
   "source": [
    "## 1. What is the difference in 'democracy quality' between western and non-western countries"
   ]
  },
  {
   "cell_type": "code",
   "execution_count": null,
   "id": "b2d700f8",
   "metadata": {},
   "outputs": [],
   "source": [
    "dem_naive <- \n",
    "dem_naive"
   ]
  },
  {
   "cell_type": "markdown",
   "id": "b5697184",
   "metadata": {},
   "source": [
    "But wait, should we give the same importance to observations of the past (2006) than to the ones in the present (2016)?"
   ]
  },
  {
   "cell_type": "code",
   "execution_count": null,
   "id": "50c83188",
   "metadata": {},
   "outputs": [],
   "source": [
    "dem <- \n",
    "dem"
   ]
  },
  {
   "cell_type": "markdown",
   "id": "87357f9f",
   "metadata": {},
   "source": [
    "What if we want to look at the difference between non western and western, as in the first estimate we ran?"
   ]
  },
  {
   "cell_type": "code",
   "execution_count": null,
   "id": "676ffbec",
   "metadata": {},
   "outputs": [],
   "source": [
    "dem <- \n",
    "dem"
   ]
  },
  {
   "cell_type": "markdown",
   "id": "05437447",
   "metadata": {},
   "source": [
    "### Interpret the results"
   ]
  },
  {
   "cell_type": "markdown",
   "id": "614e29d0",
   "metadata": {},
   "source": [
    "Type here\n"
   ]
  },
  {
   "cell_type": "markdown",
   "id": "2687281b",
   "metadata": {},
   "source": [
    "How would you calculate the estimate this with the weighted mean function? Hint: start by `subset` to our groups of interest `western` and `non western` get the weighted mean of each group"
   ]
  },
  {
   "cell_type": "code",
   "execution_count": null,
   "id": "29ebc0a9",
   "metadata": {},
   "outputs": [],
   "source": [
    "dem_eco_nw <- \n",
    "de_nw <-\n",
    "\n",
    "dem_eco_w <- \n",
    "de_w <-\n",
    "\n",
    "#substract onr from the other"
   ]
  },
  {
   "cell_type": "markdown",
   "id": "a962a44c",
   "metadata": {},
   "source": [
    "# PART II. New concepts (class)"
   ]
  },
  {
   "cell_type": "markdown",
   "id": "2c345e36",
   "metadata": {},
   "source": [
    "## 3. Relationships between democracy and the economy"
   ]
  },
  {
   "cell_type": "markdown",
   "id": "92c66eb5",
   "metadata": {},
   "source": [
    "### What trends does the data show us?"
   ]
  },
  {
   "cell_type": "markdown",
   "id": "4719c5b7",
   "metadata": {},
   "source": [
    "We are interested in seeing what kinds of trends/relationships between democracy and economic indicators are present in our data. Rememebering the variables we have `income_per_capita`, `gini_index`, `tax_gdp`, what shoudl we look into? **Use only data from 2016!**"
   ]
  },
  {
   "cell_type": "code",
   "execution_count": null,
   "id": "1929a481",
   "metadata": {},
   "outputs": [],
   "source": [
    "dem_eco_16 <- "
   ]
  },
  {
   "cell_type": "code",
   "execution_count": null,
   "id": "3f7cde04",
   "metadata": {},
   "outputs": [],
   "source": [
    "tax_plot <- "
   ]
  },
  {
   "cell_type": "markdown",
   "id": "a56913d9",
   "metadata": {},
   "source": [
    "Add a line of best fit! What do you see?"
   ]
  },
  {
   "cell_type": "code",
   "execution_count": null,
   "id": "8ae14952",
   "metadata": {},
   "outputs": [],
   "source": [
    "tax_plot_bf <- \n",
    "tax_plot_bf"
   ]
  },
  {
   "cell_type": "markdown",
   "id": "c6e1fcf9",
   "metadata": {},
   "source": []
  }
 ],
 "metadata": {
  "kernelspec": {
   "display_name": "R",
   "language": "R",
   "name": "ir"
  },
  "language_info": {
   "codemirror_mode": "r",
   "file_extension": ".r",
   "mimetype": "text/x-r-source",
   "name": "R",
   "pygments_lexer": "r",
   "version": "4.0.5"
  }
 },
 "nbformat": 4,
 "nbformat_minor": 5
}
